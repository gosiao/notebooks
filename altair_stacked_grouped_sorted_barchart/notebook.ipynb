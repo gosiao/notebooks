{
 "cells": [
  {
   "cell_type": "code",
   "execution_count": 1,
   "metadata": {},
   "outputs": [],
   "source": [
    "import pandas as pd\n",
    "import altair as alt"
   ]
  },
  {
   "cell_type": "code",
   "execution_count": 2,
   "metadata": {},
   "outputs": [],
   "source": [
    "def prep_data(df,name):      \n",
    "    df['name'] = name\n",
    "    df_te=df[['mol','name']].copy()\n",
    "    \n",
    "    df['delta1']  = df['v2']-df['v1']\n",
    "    df['delta2']  = df['v3']-df['v2']\n",
    "    df['delta3']  = df['vref']-df['v3']\n",
    "    \n",
    "    df_te['total_effect'] = df['vref']-df['v1']\n",
    "    \n",
    "    df = df.drop(['v1','v2','v3','vref'], axis=1)\n",
    "    df = df.melt(id_vars =['mol', 'name'])\n",
    "    \n",
    "    df_te = df_te.melt(id_vars =['mol', 'name'])\n",
    "    \n",
    "    return df,df_te"
   ]
  },
  {
   "cell_type": "code",
   "execution_count": 10,
   "metadata": {},
   "outputs": [],
   "source": [
    "df1=pd.read_csv('data1.csv')"
   ]
  },
  {
   "cell_type": "code",
   "execution_count": 3,
   "metadata": {},
   "outputs": [],
   "source": [
    "df1,df1_te=prep_data(df1,'set1')"
   ]
  },
  {
   "cell_type": "code",
   "execution_count": null,
   "metadata": {},
   "outputs": [],
   "source": [
    "df2=pd.read_csv('data2.csv')"
   ]
  },
  {
   "cell_type": "code",
   "execution_count": 4,
   "metadata": {},
   "outputs": [],
   "source": [
    "df2, df2_te=prep_data(df2,'set2')"
   ]
  },
  {
   "cell_type": "code",
   "execution_count": 5,
   "metadata": {},
   "outputs": [],
   "source": [
    "df_plot = pd.concat([df1.set_index('mol'),\n",
    "                     df2.set_index('mol')]).reset_index()\n",
    "df_plot_te = pd.concat([df1_te.set_index('mol'),\n",
    "                     df2_te.set_index('mol')]).reset_index()"
   ]
  },
  {
   "cell_type": "code",
   "execution_count": 6,
   "metadata": {},
   "outputs": [],
   "source": [
    "df_plot['variable'].replace({'delta1': '\\u0394'+'(1)',\n",
    "                             'delta2': '\\u0394'+'(2)',\n",
    "                             'delta3': '\\u0394'+'(3)',\n",
    "                             'delta4': '\\u0394'+'(4)'\n",
    "                            },inplace=True)"
   ]
  },
  {
   "cell_type": "code",
   "execution_count": 7,
   "metadata": {},
   "outputs": [],
   "source": [
    "df_plot_all = pd.merge(df_plot, df_plot_te, on=['mol','name'])"
   ]
  },
  {
   "cell_type": "code",
   "execution_count": 9,
   "metadata": {},
   "outputs": [
    {
     "data": {
      "text/html": [
       "\n",
       "<div id=\"altair-viz-8e08e91da031412bb69d8f7dd85f5655\"></div>\n",
       "<script type=\"text/javascript\">\n",
       "  (function(spec, embedOpt){\n",
       "    let outputDiv = document.currentScript.previousElementSibling;\n",
       "    if (outputDiv.id !== \"altair-viz-8e08e91da031412bb69d8f7dd85f5655\") {\n",
       "      outputDiv = document.getElementById(\"altair-viz-8e08e91da031412bb69d8f7dd85f5655\");\n",
       "    }\n",
       "    const paths = {\n",
       "      \"vega\": \"https://cdn.jsdelivr.net/npm//vega@5?noext\",\n",
       "      \"vega-lib\": \"https://cdn.jsdelivr.net/npm//vega-lib?noext\",\n",
       "      \"vega-lite\": \"https://cdn.jsdelivr.net/npm//vega-lite@4.8.1?noext\",\n",
       "      \"vega-embed\": \"https://cdn.jsdelivr.net/npm//vega-embed@6?noext\",\n",
       "    };\n",
       "\n",
       "    function loadScript(lib) {\n",
       "      return new Promise(function(resolve, reject) {\n",
       "        var s = document.createElement('script');\n",
       "        s.src = paths[lib];\n",
       "        s.async = true;\n",
       "        s.onload = () => resolve(paths[lib]);\n",
       "        s.onerror = () => reject(`Error loading script: ${paths[lib]}`);\n",
       "        document.getElementsByTagName(\"head\")[0].appendChild(s);\n",
       "      });\n",
       "    }\n",
       "\n",
       "    function showError(err) {\n",
       "      outputDiv.innerHTML = `<div class=\"error\" style=\"color:red;\">${err}</div>`;\n",
       "      throw err;\n",
       "    }\n",
       "\n",
       "    function displayChart(vegaEmbed) {\n",
       "      vegaEmbed(outputDiv, spec, embedOpt)\n",
       "        .catch(err => showError(`Javascript Error: ${err.message}<br>This usually means there's a typo in your chart specification. See the javascript console for the full traceback.`));\n",
       "    }\n",
       "\n",
       "    if(typeof define === \"function\" && define.amd) {\n",
       "      requirejs.config({paths});\n",
       "      require([\"vega-embed\"], displayChart, err => showError(`Error loading script: ${err.message}`));\n",
       "    } else if (typeof vegaEmbed === \"function\") {\n",
       "      displayChart(vegaEmbed);\n",
       "    } else {\n",
       "      loadScript(\"vega\")\n",
       "        .then(() => loadScript(\"vega-lite\"))\n",
       "        .then(() => loadScript(\"vega-embed\"))\n",
       "        .catch(showError)\n",
       "        .then(() => displayChart(vegaEmbed));\n",
       "    }\n",
       "  })({\"config\": {\"view\": {\"continuousWidth\": 400, \"continuousHeight\": 300, \"strokeOpacity\": 0}}, \"data\": {\"name\": \"data-146825b39538986d6890b01e8453e687\"}, \"facet\": {\"column\": {\"type\": \"nominal\", \"field\": \"mol\", \"header\": {\"labelAlign\": \"center\", \"labelAnchor\": \"middle\", \"labelBaseline\": \"line-top\", \"labelFontSize\": 14, \"orient\": \"bottom\", \"title\": \"Test plot\", \"titleFontSize\": 24}, \"sort\": [\"Cr\", \"Mn\", \"Co\", \"Zn\", \"Mo\", \"Tc\", \"Ru\", \"Pd\", \"Ag\", \"W\", \"Re\", \"Pt\"]}}, \"spec\": {\"layer\": [{\"mark\": {\"type\": \"bar\", \"size\": 15}, \"encoding\": {\"color\": {\"type\": \"nominal\", \"field\": \"variable_x\", \"legend\": {\"direction\": \"horizontal\", \"labelFontSize\": 14, \"offset\": -200, \"orient\": \"right\", \"title\": \"Contributions\", \"titleFontSize\": 16}, \"scale\": {\"range\": [\"#4381d1\", \"#47c488\", \"#ff6f69\"]}}, \"order\": {\"type\": \"quantitative\", \"field\": \"variable_x\", \"sort\": \"ascending\"}, \"x\": {\"type\": \"ordinal\", \"axis\": {\"grid\": true, \"labelFontSize\": 8}, \"field\": \"name\", \"sort\": [\"set1\", \"set2\"], \"title\": null}, \"y\": {\"type\": \"quantitative\", \"axis\": {\"grid\": true, \"title\": null}, \"field\": \"value_x\"}}}, {\"mark\": {\"type\": \"tick\", \"color\": \"black\", \"size\": 15, \"thickness\": 1.5}, \"encoding\": {\"x\": {\"type\": \"ordinal\", \"axis\": {\"grid\": true, \"title\": null}, \"field\": \"name\"}, \"y\": {\"type\": \"quantitative\", \"axis\": {\"grid\": true, \"title\": null}, \"field\": \"value_y\"}}}], \"height\": 450, \"width\": 50}, \"resolve\": {\"scale\": {\"x\": \"independent\"}}, \"$schema\": \"https://vega.github.io/schema/vega-lite/v4.8.1.json\", \"datasets\": {\"data-146825b39538986d6890b01e8453e687\": [{\"mol\": \"Cr\", \"name\": \"set1\", \"variable_x\": \"\\u0394(1)\", \"value_x\": 130.42110000000002, \"variable_y\": \"total_effect\", \"value_y\": 80.61120000000028}, {\"mol\": \"Cr\", \"name\": \"set1\", \"variable_x\": \"\\u0394(2)\", \"value_x\": 17.423299999999927, \"variable_y\": \"total_effect\", \"value_y\": 80.61120000000028}, {\"mol\": \"Cr\", \"name\": \"set1\", \"variable_x\": \"\\u0394(3)\", \"value_x\": -67.23319999999967, \"variable_y\": \"total_effect\", \"value_y\": 80.61120000000028}, {\"mol\": \"Mn\", \"name\": \"set1\", \"variable_x\": \"\\u0394(1)\", \"value_x\": 38.04029999999966, \"variable_y\": \"total_effect\", \"value_y\": -19.97230000000036}, {\"mol\": \"Mn\", \"name\": \"set1\", \"variable_x\": \"\\u0394(2)\", \"value_x\": 5.971099999999751, \"variable_y\": \"total_effect\", \"value_y\": -19.97230000000036}, {\"mol\": \"Mn\", \"name\": \"set1\", \"variable_x\": \"\\u0394(3)\", \"value_x\": -63.98369999999977, \"variable_y\": \"total_effect\", \"value_y\": -19.97230000000036}, {\"mol\": \"Co\", \"name\": \"set1\", \"variable_x\": \"\\u0394(1)\", \"value_x\": 1158.0608999999995, \"variable_y\": \"total_effect\", \"value_y\": 1131.8597}, {\"mol\": \"Co\", \"name\": \"set1\", \"variable_x\": \"\\u0394(2)\", \"value_x\": 4.018000000000029, \"variable_y\": \"total_effect\", \"value_y\": 1131.8597}, {\"mol\": \"Co\", \"name\": \"set1\", \"variable_x\": \"\\u0394(3)\", \"value_x\": -30.219199999999546, \"variable_y\": \"total_effect\", \"value_y\": 1131.8597}, {\"mol\": \"Zn\", \"name\": \"set1\", \"variable_x\": \"\\u0394(1)\", \"value_x\": -37.688899999999876, \"variable_y\": \"total_effect\", \"value_y\": -46.30549999999994}, {\"mol\": \"Zn\", \"name\": \"set1\", \"variable_x\": \"\\u0394(2)\", \"value_x\": -0.8621000000000549, \"variable_y\": \"total_effect\", \"value_y\": -46.30549999999994}, {\"mol\": \"Zn\", \"name\": \"set1\", \"variable_x\": \"\\u0394(3)\", \"value_x\": -7.754500000000007, \"variable_y\": \"total_effect\", \"value_y\": -46.30549999999994}, {\"mol\": \"Mo\", \"name\": \"set1\", \"variable_x\": \"\\u0394(1)\", \"value_x\": 67.73270000000002, \"variable_y\": \"total_effect\", \"value_y\": 19.624400000000037}, {\"mol\": \"Mo\", \"name\": \"set1\", \"variable_x\": \"\\u0394(2)\", \"value_x\": 19.93149999999997, \"variable_y\": \"total_effect\", \"value_y\": 19.624400000000037}, {\"mol\": \"Mo\", \"name\": \"set1\", \"variable_x\": \"\\u0394(3)\", \"value_x\": -68.03979999999996, \"variable_y\": \"total_effect\", \"value_y\": 19.624400000000037}, {\"mol\": \"Tc\", \"name\": \"set1\", \"variable_x\": \"\\u0394(1)\", \"value_x\": 22.700800000000072, \"variable_y\": \"total_effect\", \"value_y\": 9.810600000000022}, {\"mol\": \"Tc\", \"name\": \"set1\", \"variable_x\": \"\\u0394(2)\", \"value_x\": 13.167099999999891, \"variable_y\": \"total_effect\", \"value_y\": 9.810600000000022}, {\"mol\": \"Tc\", \"name\": \"set1\", \"variable_x\": \"\\u0394(3)\", \"value_x\": -26.05729999999994, \"variable_y\": \"total_effect\", \"value_y\": 9.810600000000022}, {\"mol\": \"Ru\", \"name\": \"set1\", \"variable_x\": \"\\u0394(1)\", \"value_x\": 832.5609999999999, \"variable_y\": \"total_effect\", \"value_y\": 837.7029}, {\"mol\": \"Ru\", \"name\": \"set1\", \"variable_x\": \"\\u0394(2)\", \"value_x\": 135.2919, \"variable_y\": \"total_effect\", \"value_y\": 837.7029}, {\"mol\": \"Ru\", \"name\": \"set1\", \"variable_x\": \"\\u0394(3)\", \"value_x\": -130.14999999999998, \"variable_y\": \"total_effect\", \"value_y\": 837.7029}, {\"mol\": \"Pd\", \"name\": \"set1\", \"variable_x\": \"\\u0394(1)\", \"value_x\": 218.02189999999996, \"variable_y\": \"total_effect\", \"value_y\": 291.0706}, {\"mol\": \"Pd\", \"name\": \"set1\", \"variable_x\": \"\\u0394(2)\", \"value_x\": 17.14740000000006, \"variable_y\": \"total_effect\", \"value_y\": 291.0706}, {\"mol\": \"Pd\", \"name\": \"set1\", \"variable_x\": \"\\u0394(3)\", \"value_x\": 55.90129999999999, \"variable_y\": \"total_effect\", \"value_y\": 291.0706}, {\"mol\": \"Ag\", \"name\": \"set1\", \"variable_x\": \"\\u0394(1)\", \"value_x\": -181.01440000000002, \"variable_y\": \"total_effect\", \"value_y\": -211.41850000000068}, {\"mol\": \"Ag\", \"name\": \"set1\", \"variable_x\": \"\\u0394(2)\", \"value_x\": 0.3577999999997701, \"variable_y\": \"total_effect\", \"value_y\": -211.41850000000068}, {\"mol\": \"Ag\", \"name\": \"set1\", \"variable_x\": \"\\u0394(3)\", \"value_x\": -30.761900000000423, \"variable_y\": \"total_effect\", \"value_y\": -211.41850000000068}, {\"mol\": \"W\", \"name\": \"set1\", \"variable_x\": \"\\u0394(1)\", \"value_x\": 78.72829999999976, \"variable_y\": \"total_effect\", \"value_y\": -31.928100000000086}, {\"mol\": \"W\", \"name\": \"set1\", \"variable_x\": \"\\u0394(2)\", \"value_x\": 20.256900000000314, \"variable_y\": \"total_effect\", \"value_y\": -31.928100000000086}, {\"mol\": \"W\", \"name\": \"set1\", \"variable_x\": \"\\u0394(3)\", \"value_x\": -130.91330000000016, \"variable_y\": \"total_effect\", \"value_y\": -31.928100000000086}, {\"mol\": \"Re\", \"name\": \"set1\", \"variable_x\": \"\\u0394(1)\", \"value_x\": 21.235799999999927, \"variable_y\": \"total_effect\", \"value_y\": -24.335999999999785}, {\"mol\": \"Re\", \"name\": \"set1\", \"variable_x\": \"\\u0394(2)\", \"value_x\": 11.048499999999876, \"variable_y\": \"total_effect\", \"value_y\": -24.335999999999785}, {\"mol\": \"Re\", \"name\": \"set1\", \"variable_x\": \"\\u0394(3)\", \"value_x\": -56.62029999999959, \"variable_y\": \"total_effect\", \"value_y\": -24.335999999999785}, {\"mol\": \"Pt\", \"name\": \"set1\", \"variable_x\": \"\\u0394(1)\", \"value_x\": 509.4771999999998, \"variable_y\": \"total_effect\", \"value_y\": 327.47260000000006}, {\"mol\": \"Pt\", \"name\": \"set1\", \"variable_x\": \"\\u0394(2)\", \"value_x\": 58.45690000000013, \"variable_y\": \"total_effect\", \"value_y\": 327.47260000000006}, {\"mol\": \"Pt\", \"name\": \"set1\", \"variable_x\": \"\\u0394(3)\", \"value_x\": -240.4614999999999, \"variable_y\": \"total_effect\", \"value_y\": 327.47260000000006}, {\"mol\": \"Cr\", \"name\": \"set2\", \"variable_x\": \"\\u0394(1)\", \"value_x\": -173.7458999999999, \"variable_y\": \"total_effect\", \"value_y\": 71.29509999999982}, {\"mol\": \"Cr\", \"name\": \"set2\", \"variable_x\": \"\\u0394(2)\", \"value_x\": 293.4998999999998, \"variable_y\": \"total_effect\", \"value_y\": 71.29509999999982}, {\"mol\": \"Cr\", \"name\": \"set2\", \"variable_x\": \"\\u0394(3)\", \"value_x\": -48.458900000000085, \"variable_y\": \"total_effect\", \"value_y\": 71.29509999999982}, {\"mol\": \"Mn\", \"name\": \"set2\", \"variable_x\": \"\\u0394(1)\", \"value_x\": -389.3710000000001, \"variable_y\": \"total_effect\", \"value_y\": -10.177499999999782}, {\"mol\": \"Mn\", \"name\": \"set2\", \"variable_x\": \"\\u0394(2)\", \"value_x\": 425.02030000000013, \"variable_y\": \"total_effect\", \"value_y\": -10.177499999999782}, {\"mol\": \"Mn\", \"name\": \"set2\", \"variable_x\": \"\\u0394(3)\", \"value_x\": -45.82679999999982, \"variable_y\": \"total_effect\", \"value_y\": -10.177499999999782}, {\"mol\": \"Co\", \"name\": \"set2\", \"variable_x\": \"\\u0394(1)\", \"value_x\": 443.2673999999997, \"variable_y\": \"total_effect\", \"value_y\": 922.8062999999997}, {\"mol\": \"Co\", \"name\": \"set2\", \"variable_x\": \"\\u0394(2)\", \"value_x\": 498.0164999999997, \"variable_y\": \"total_effect\", \"value_y\": 922.8062999999997}, {\"mol\": \"Co\", \"name\": \"set2\", \"variable_x\": \"\\u0394(3)\", \"value_x\": -18.47759999999971, \"variable_y\": \"total_effect\", \"value_y\": 922.8062999999997}, {\"mol\": \"Zn\", \"name\": \"set2\", \"variable_x\": \"\\u0394(1)\", \"value_x\": 166.24489999999992, \"variable_y\": \"total_effect\", \"value_y\": -31.50739999999996}, {\"mol\": \"Zn\", \"name\": \"set2\", \"variable_x\": \"\\u0394(2)\", \"value_x\": -197.47119999999995, \"variable_y\": \"total_effect\", \"value_y\": -31.50739999999996}, {\"mol\": \"Zn\", \"name\": \"set2\", \"variable_x\": \"\\u0394(3)\", \"value_x\": -0.28109999999992397, \"variable_y\": \"total_effect\", \"value_y\": -31.50739999999996}, {\"mol\": \"Mo\", \"name\": \"set2\", \"variable_x\": \"\\u0394(1)\", \"value_x\": 23.306699999999978, \"variable_y\": \"total_effect\", \"value_y\": 21.89580000000001}, {\"mol\": \"Mo\", \"name\": \"set2\", \"variable_x\": \"\\u0394(2)\", \"value_x\": 47.7013, \"variable_y\": \"total_effect\", \"value_y\": 21.89580000000001}, {\"mol\": \"Mo\", \"name\": \"set2\", \"variable_x\": \"\\u0394(3)\", \"value_x\": -49.11219999999997, \"variable_y\": \"total_effect\", \"value_y\": 21.89580000000001}, {\"mol\": \"Tc\", \"name\": \"set2\", \"variable_x\": \"\\u0394(1)\", \"value_x\": -103.7686000000001, \"variable_y\": \"total_effect\", \"value_y\": 13.94659999999999}, {\"mol\": \"Tc\", \"name\": \"set2\", \"variable_x\": \"\\u0394(2)\", \"value_x\": 132.8216000000001, \"variable_y\": \"total_effect\", \"value_y\": 13.94659999999999}, {\"mol\": \"Tc\", \"name\": \"set2\", \"variable_x\": \"\\u0394(3)\", \"value_x\": -15.106400000000008, \"variable_y\": \"total_effect\", \"value_y\": 13.94659999999999}, {\"mol\": \"Ru\", \"name\": \"set2\", \"variable_x\": \"\\u0394(1)\", \"value_x\": 683.3416, \"variable_y\": \"total_effect\", \"value_y\": 684.5394}, {\"mol\": \"Ru\", \"name\": \"set2\", \"variable_x\": \"\\u0394(2)\", \"value_x\": 100.61930000000001, \"variable_y\": \"total_effect\", \"value_y\": 684.5394}, {\"mol\": \"Ru\", \"name\": \"set2\", \"variable_x\": \"\\u0394(3)\", \"value_x\": -99.42150000000001, \"variable_y\": \"total_effect\", \"value_y\": 684.5394}, {\"mol\": \"Pd\", \"name\": \"set2\", \"variable_x\": \"\\u0394(1)\", \"value_x\": 23.55950000000007, \"variable_y\": \"total_effect\", \"value_y\": 241.7672}, {\"mol\": \"Pd\", \"name\": \"set2\", \"variable_x\": \"\\u0394(2)\", \"value_x\": 166.92759999999998, \"variable_y\": \"total_effect\", \"value_y\": 241.7672}, {\"mol\": \"Pd\", \"name\": \"set2\", \"variable_x\": \"\\u0394(3)\", \"value_x\": 51.28009999999995, \"variable_y\": \"total_effect\", \"value_y\": 241.7672}, {\"mol\": \"Ag\", \"name\": \"set2\", \"variable_x\": \"\\u0394(1)\", \"value_x\": 296.18319999999994, \"variable_y\": \"total_effect\", \"value_y\": -165.24900000000025}, {\"mol\": \"Ag\", \"name\": \"set2\", \"variable_x\": \"\\u0394(2)\", \"value_x\": -442.5151000000001, \"variable_y\": \"total_effect\", \"value_y\": -165.24900000000025}, {\"mol\": \"Ag\", \"name\": \"set2\", \"variable_x\": \"\\u0394(3)\", \"value_x\": -18.91710000000012, \"variable_y\": \"total_effect\", \"value_y\": -165.24900000000025}, {\"mol\": \"W\", \"name\": \"set2\", \"variable_x\": \"\\u0394(1)\", \"value_x\": 520.5299, \"variable_y\": \"total_effect\", \"value_y\": -19.861700000000383}, {\"mol\": \"W\", \"name\": \"set2\", \"variable_x\": \"\\u0394(2)\", \"value_x\": -440.3519000000001, \"variable_y\": \"total_effect\", \"value_y\": -19.861700000000383}, {\"mol\": \"W\", \"name\": \"set2\", \"variable_x\": \"\\u0394(3)\", \"value_x\": -100.03970000000027, \"variable_y\": \"total_effect\", \"value_y\": -19.861700000000383}, {\"mol\": \"Re\", \"name\": \"set2\", \"variable_x\": \"\\u0394(1)\", \"value_x\": 362.7828999999997, \"variable_y\": \"total_effect\", \"value_y\": -13.712200000000394}, {\"mol\": \"Re\", \"name\": \"set2\", \"variable_x\": \"\\u0394(2)\", \"value_x\": -336.6327000000001, \"variable_y\": \"total_effect\", \"value_y\": -13.712200000000394}, {\"mol\": \"Re\", \"name\": \"set2\", \"variable_x\": \"\\u0394(3)\", \"value_x\": -39.86239999999998, \"variable_y\": \"total_effect\", \"value_y\": -13.712200000000394}, {\"mol\": \"Pt\", \"name\": \"set2\", \"variable_x\": \"\\u0394(1)\", \"value_x\": 721.3708000000001, \"variable_y\": \"total_effect\", \"value_y\": 271.25279999999975}, {\"mol\": \"Pt\", \"name\": \"set2\", \"variable_x\": \"\\u0394(2)\", \"value_x\": -261.3442, \"variable_y\": \"total_effect\", \"value_y\": 271.25279999999975}, {\"mol\": \"Pt\", \"name\": \"set2\", \"variable_x\": \"\\u0394(3)\", \"value_x\": -188.7738000000004, \"variable_y\": \"total_effect\", \"value_y\": 271.25279999999975}]}}, {\"mode\": \"vega-lite\"});\n",
       "</script>"
      ],
      "text/plain": [
       "alt.FacetChart(...)"
      ]
     },
     "execution_count": 9,
     "metadata": {},
     "output_type": "execute_result"
    }
   ],
   "source": [
    "order_mol=['Cr', 'Mn', 'Co', 'Zn', 'Mo', 'Tc', 'Ru', 'Pd', 'Ag', 'W', 'Re', 'Pt']\n",
    "order_where=['set1','set2']\n",
    "\n",
    "\n",
    "bars=alt.Chart(df_plot_all).mark_bar(size=15).encode(     \n",
    "\n",
    "    # which field to group columns on\n",
    "    x=alt.X('name:O',\n",
    "            axis=alt.Axis(grid=True,labelFontSize=8),\n",
    "            sort=order_where,\n",
    "            title=None),\n",
    "\n",
    "    # which field to use as Y values and how to calculate\n",
    "    y=alt.Y('value_x:Q',\n",
    "            axis=alt.Axis(grid=True,title=None)),\n",
    "\n",
    "    # which field to color by & legend\n",
    "    color=alt.Color('variable_x',\n",
    "                    scale=alt.Scale(range=['#4381d1', '#47c488', '#ff6f69']),\n",
    "                    legend=alt.Legend(title=\"Contributions\",\n",
    "                                      orient=\"right\",\n",
    "                                      direction=\"horizontal\",\n",
    "                                      offset=-200,\n",
    "                                      titleFontSize=16,\n",
    "                                      labelFontSize=14)),\n",
    "                   \n",
    "    # how to order the data on bars\n",
    "    order=alt.Order('variable_x:Q', sort='ascending'))\n",
    "\n",
    "\n",
    "# use separate marks for the 'total effect'\n",
    "rules = alt.Chart(df_plot_all).mark_tick(color='black', thickness=1.5,size=15,).encode(\n",
    "        x=alt.X('name:O',axis=alt.Axis(grid=True,title=None)),\n",
    "        y=alt.Y('value_y:Q',axis=alt.Axis(grid=True,title=None)))\n",
    "\n",
    "\n",
    "# combine all together\n",
    "alt.layer(\n",
    "    bars,\n",
    "    rules\n",
    ").properties(height=450,width=50).facet(column=alt.Column('mol',\n",
    "                      sort=order_mol,\n",
    "                      header=alt.Header(title='Test plot',\n",
    "                                        orient='bottom',\n",
    "                                        titleFontSize=24,\n",
    "                                        labelFontSize=14,\n",
    "                                        labelBaseline='line-top',\n",
    "                                        labelAlign='center',\n",
    "                                        labelAnchor='middle'))                    \n",
    "                                       ).resolve_scale(x='independent').configure_view(strokeOpacity=0)"
   ]
  },
  {
   "cell_type": "code",
   "execution_count": null,
   "metadata": {},
   "outputs": [],
   "source": []
  },
  {
   "cell_type": "code",
   "execution_count": null,
   "metadata": {},
   "outputs": [],
   "source": []
  }
 ],
 "metadata": {
  "kernelspec": {
   "display_name": "Python 3",
   "language": "python",
   "name": "python3"
  },
  "language_info": {
   "codemirror_mode": {
    "name": "ipython",
    "version": 3
   },
   "file_extension": ".py",
   "mimetype": "text/x-python",
   "name": "python",
   "nbconvert_exporter": "python",
   "pygments_lexer": "ipython3",
   "version": "3.7.3"
  }
 },
 "nbformat": 4,
 "nbformat_minor": 4
}
